{
 "cells": [
  {
   "cell_type": "markdown",
   "metadata": {},
   "source": [
    "**Model Run** "
   ]
  },
  {
   "cell_type": "code",
   "execution_count": 1,
   "metadata": {},
   "outputs": [],
   "source": [
    "# import necessary libraries and model\n",
    "from model import AdaptationModel\n",
    "import matplotlib.pyplot as plt\n",
    "import networkx as nx\n",
    "from collections import defaultdict \n",
    "import pandas as pd"
   ]
  },
  {
   "cell_type": "code",
   "execution_count": 48,
   "metadata": {},
   "outputs": [],
   "source": [
    "# set-up model parameters\n",
    "# run time: 100 years --> 400 quarters, so 400 ticks in total\n",
    "run_length = 400\n",
    "# set the number of replications \n",
    "replication_number = 10\n",
    "# set the number of households\n",
    "number_of_households = 500"
   ]
  },
  {
   "cell_type": "code",
   "execution_count": 29,
   "metadata": {},
   "outputs": [],
   "source": [
    "# use defaultdict to store the results with different seeds\n",
    "model_results =  defaultdict(list)\n",
    "agent_results = defaultdict(list)\n",
    "# Run the model based on the parameters above, no subsidy included\n",
    "for i in range(replication_number):\n",
    "    seed = i  # set the seed\n",
    "    model = AdaptationModel(number_of_households= number_of_households,subsidy_rate=0, income_threshold=2000, flood_map_choice=\"harvey\", network=\"no_network\", seed=seed)\n",
    "    for tick in range(run_length):\n",
    "        model.step() \n",
    "    model_data = model.datacollector.get_model_vars_dataframe()\n",
    "    agent_data = model.datacollector.get_agent_vars_dataframe()\n",
    "    model_results[i].append(model_data)\n",
    "    agent_results[i].append(agent_data)\n",
    "        "
   ]
  },
  {
   "cell_type": "markdown",
   "metadata": {},
   "source": [
    "**Save the Results**"
   ]
  },
  {
   "cell_type": "code",
   "execution_count": 31,
   "metadata": {},
   "outputs": [],
   "source": [
    "# function to convert the results to dataframe, with one index\n",
    "def convert_to_dataframe(results, replication_number):\n",
    "    dfs = [pd.concat(results[i], keys=[i], names=['replication/seed']) for i in range(replication_number)]\n",
    "    dataframe = pd.concat(dfs)\n",
    "    dataframe.reset_index(inplace=True)\n",
    "    dataframe.rename(columns={'level_1': 'Step'}, inplace=True)\n",
    "    return dataframe"
   ]
  },
  {
   "cell_type": "code",
   "execution_count": 32,
   "metadata": {},
   "outputs": [
    {
     "name": "stderr",
     "output_type": "stream",
     "text": [
      "C:\\Users\\canan\\AppData\\Local\\Temp\\ipykernel_26396\\3136032148.py:4: FutureWarning: The behavior of DataFrame concatenation with empty or all-NA entries is deprecated. In a future version, this will no longer exclude empty or all-NA columns when determining the result dtypes. To retain the old behavior, exclude the relevant entries before the concat operation.\n",
      "  dataframe = pd.concat(dfs)\n"
     ]
    }
   ],
   "source": [
    "# convert the model results to dataframe\n",
    "model_dataframe = convert_to_dataframe(model_results, replication_number)\n",
    "# convert the agent results to dataframe\n",
    "agent_dataframe = convert_to_dataframe(agent_results, replication_number)"
   ]
  },
  {
   "cell_type": "code",
   "execution_count": 87,
   "metadata": {},
   "outputs": [],
   "source": [
    "# Save the results to csv files\n",
    "model_dataframe.to_csv(f\"../results/{'model_results_no_subsidy'}.csv\", index=False)\n",
    "agent_dataframe.to_csv(f\"../results/{'agent_results_no_subsidy'}.csv\", index=False)"
   ]
  },
  {
   "cell_type": "code",
   "execution_count": 62,
   "metadata": {},
   "outputs": [],
   "source": [
    "# Load the data with the following code\n",
    "# change the file name to the file you want to load\n",
    "#model_dataframe = pd.read_csv(f\"../results/{'model_results'}.csv\")"
   ]
  },
  {
   "cell_type": "markdown",
   "metadata": {},
   "source": [
    "**Sensitivity Analysis**"
   ]
  },
  {
   "cell_type": "code",
   "execution_count": 3,
   "metadata": {},
   "outputs": [],
   "source": [
    "# Parameters for the sensitivity analysis\n",
    "subsidy_rate = [0, 0.1, 0.2, 0.3, 0.4, 0.5, 0.6, \n",
    "                0.7, 0.8, 0.9, 1]   # subsidy rate offered\n",
    "income_threshold = [0, 1000, 3000, 5000, 8000, 10000] # agents which have lower income then the threshold eligible for subsidy\n",
    "saving_threshold = [0, 0.1, 0.25, 0.5, 0.75] # agent calculate_saving(self) threshold, for saving or consuming"
   ]
  },
  {
   "cell_type": "markdown",
   "metadata": {},
   "source": [
    "**1. Saving Threshold Sensitivity**"
   ]
  },
  {
   "cell_type": "code",
   "execution_count": 4,
   "metadata": {},
   "outputs": [],
   "source": [
    "# use defaultdict to store the results with different seeds\n",
    "model_results_saving_threshold =  defaultdict(list)\n",
    "agent_results_saving_threshold = defaultdict(list)\n",
    "# Run the sensitivity for different saving thresholds, no subsidy included\n",
    "for rate in saving_threshold:\n",
    "    for i in range(replication_number):\n",
    "        seed = i  # set the seed\n",
    "        model = AdaptationModel(number_of_households= number_of_households,subsidy_rate=0, income_threshold=2000, flood_map_choice=\"harvey\", network=\"no_network\", seed=seed)\n",
    "        for tick in range(run_length):\n",
    "            model.step() \n",
    "        model_data2 = model.datacollector.get_model_vars_dataframe()\n",
    "        agent_data2 = model.datacollector.get_agent_vars_dataframe()\n",
    "        agent_data2.reset_index(inplace=True)\n",
    "        model_results_saving_threshold[i,rate].append(model_data2)\n",
    "        agent_results_saving_threshold[i,rate].append(agent_data2)"
   ]
  },
  {
   "cell_type": "markdown",
   "metadata": {},
   "source": [
    "**Save the Results**"
   ]
  },
  {
   "cell_type": "code",
   "execution_count": 19,
   "metadata": {},
   "outputs": [],
   "source": [
    "# Create a dictionary to hold the concatenated dataframes\n",
    "concatenated_dfs = {}\n",
    "\n",
    "# Concatenate the dataframes for each (i, rate) key\n",
    "for key, result_list in model_results_saving_threshold.items():\n",
    "    i, rate = key\n",
    "    concatenated_dfs[key] = pd.concat(result_list)\n",
    "\n",
    "# Convert the dictionary of dataframes to a single dataframe\n",
    "model_dataframe_saving_threshold = pd.concat(concatenated_dfs.values(), keys=concatenated_dfs.keys(), names=['replication/seed', 'rate', 'Step'])\n",
    "\n",
    "# Reset the index \n",
    "model_dataframe_saving_threshold.reset_index(inplace=True)\n"
   ]
  },
  {
   "cell_type": "code",
   "execution_count": 16,
   "metadata": {},
   "outputs": [
    {
     "name": "stderr",
     "output_type": "stream",
     "text": [
      "C:\\Users\\canan\\AppData\\Local\\Temp\\ipykernel_26396\\1444048260.py:10: FutureWarning: The behavior of DataFrame concatenation with empty or all-NA entries is deprecated. In a future version, this will no longer exclude empty or all-NA columns when determining the result dtypes. To retain the old behavior, exclude the relevant entries before the concat operation.\n",
      "  agent_dataframe_saving_threshold = pd.concat(concatenated_dfs2.values(), keys=concatenated_dfs2.keys(), names=['replication', 'rate', 'index'])\n"
     ]
    }
   ],
   "source": [
    "# Create a dictionary to hold the concatenated dataframes\n",
    "concatenated_dfs2 = {}\n",
    "\n",
    "# Concatenate the dataframes for each (i, rate) key\n",
    "for key, result_list in agent_results_saving_threshold.items():\n",
    "    i, rate = key\n",
    "    concatenated_dfs2[key] = pd.concat(result_list)\n",
    "\n",
    "# Convert the dictionary of dataframes to a single dataframe\n",
    "agent_dataframe_saving_threshold = pd.concat(concatenated_dfs2.values(), keys=concatenated_dfs2.keys(), names=['replication/seed', 'rate', 'index'])\n",
    "\n",
    "# Reset the index \n",
    "agent_dataframe_saving_threshold.reset_index(inplace=True)\n",
    "# drop index column\n",
    "agent_dataframe_saving_threshold.drop(columns=['index'], inplace=True)\n"
   ]
  },
  {
   "cell_type": "code",
   "execution_count": 97,
   "metadata": {},
   "outputs": [],
   "source": [
    "# Save the results to csv files\n",
    "model_dataframe_saving_threshold.to_csv(f\"../results/{'model_sensitivity_results_saving_threshold'}.csv\", index=False)\n",
    "agent_dataframe_saving_threshold.to_csv(f\"../results/{'agent_sensitivity_results_saving_threshold'}.csv\", index=False)"
   ]
  },
  {
   "cell_type": "code",
   "execution_count": 100,
   "metadata": {},
   "outputs": [],
   "source": [
    "#upload the data with the following code\n",
    "# change the file name to the file you want to load\n",
    "#model_dataframe_saving_threshold = pd.read_csv(f\"../results/{'model_sensitivity_results_saving_threshold'}.csv\")"
   ]
  },
  {
   "cell_type": "markdown",
   "metadata": {},
   "source": [
    "**2.Income Threshold**"
   ]
  },
  {
   "cell_type": "code",
   "execution_count": 18,
   "metadata": {},
   "outputs": [],
   "source": [
    "# use defaultdict to store the results with different seeds\n",
    "model_results_income_threshold =  defaultdict(list)\n",
    "agent_results_income_threshold = defaultdict(list)\n",
    "# Run the sensitivity for different income thresholds, when subsidy is 10%\n",
    "for income in income_threshold:\n",
    "    for i in range(replication_number):\n",
    "        seed = i  # set the seed\n",
    "        model = AdaptationModel(number_of_households= number_of_households,subsidy_rate=0.1, income_threshold=income, flood_map_choice=\"harvey\", network=\"no_network\", seed=seed)\n",
    "        for tick in range(run_length):\n",
    "            model.step() \n",
    "        model_data3 = model.datacollector.get_model_vars_dataframe()\n",
    "        agent_data3 = model.datacollector.get_agent_vars_dataframe()\n",
    "        agent_data3.reset_index(inplace=True)\n",
    "        model_data3\n",
    "        model_results_income_threshold[i,income].append(model_data3)\n",
    "        agent_results_income_threshold[i,income].append(agent_data3)"
   ]
  },
  {
   "cell_type": "code",
   "execution_count": 21,
   "metadata": {},
   "outputs": [],
   "source": [
    "# Create a dictionary to hold the concatenated dataframes\n",
    "concatenated_dfs = {}\n",
    "\n",
    "# Concatenate the dataframes for each (i, rate) key\n",
    "for key, result_list in model_results_income_threshold.items():\n",
    "    i, rate = key\n",
    "    concatenated_dfs[key] = pd.concat(result_list)\n",
    "\n",
    "# Convert the dictionary of dataframes to a single dataframe\n",
    "model_dataframe_income_threshold = pd.concat(concatenated_dfs.values(), keys=concatenated_dfs.keys(), names=['replication/seed', 'income_threshold', 'Step'])\n",
    "\n",
    "# Reset the index \n",
    "model_dataframe_income_threshold.reset_index(inplace=True)\n",
    "\n"
   ]
  },
  {
   "cell_type": "code",
   "execution_count": 22,
   "metadata": {},
   "outputs": [
    {
     "name": "stderr",
     "output_type": "stream",
     "text": [
      "C:\\Users\\canan\\AppData\\Local\\Temp\\ipykernel_26396\\1200854002.py:10: FutureWarning: The behavior of DataFrame concatenation with empty or all-NA entries is deprecated. In a future version, this will no longer exclude empty or all-NA columns when determining the result dtypes. To retain the old behavior, exclude the relevant entries before the concat operation.\n",
      "  agent_dataframe_income_threshold = pd.concat(concatenated_dfs2.values(), keys=concatenated_dfs2.keys(), names=['replication/seed', 'income_threshold', 'index'])\n"
     ]
    }
   ],
   "source": [
    "# Create a dictionary to hold the concatenated dataframes\n",
    "concatenated_dfs2 = {}\n",
    "\n",
    "# Concatenate the dataframes for each (i, rate) key\n",
    "for key, result_list in agent_results_income_threshold.items():\n",
    "    i, rate = key\n",
    "    concatenated_dfs2[key] = pd.concat(result_list)\n",
    "\n",
    "# Convert the dictionary of dataframes to a single dataframe\n",
    "agent_dataframe_income_threshold = pd.concat(concatenated_dfs2.values(), keys=concatenated_dfs2.keys(), names=['replication/seed', 'income_threshold', 'index'])\n",
    "\n",
    "# Reset the index \n",
    "agent_dataframe_income_threshold.reset_index(inplace=True)\n",
    "# drop index column\n",
    "agent_dataframe_income_threshold.drop(columns=['index'], inplace=True)\n"
   ]
  },
  {
   "cell_type": "code",
   "execution_count": 35,
   "metadata": {},
   "outputs": [],
   "source": [
    "# save the results to csv files\n",
    "model_dataframe_income_threshold.to_csv(f\"../results/{'model_sensitivity_results_income_threshold'}.csv\", index=False)\n",
    "agent_dataframe_income_threshold.to_csv(f\"../results/{'agent_sensitivity_results_income_threshold'}.csv\", index=False)"
   ]
  },
  {
   "cell_type": "code",
   "execution_count": 38,
   "metadata": {},
   "outputs": [],
   "source": [
    "# upload the data with the following code\n",
    "# change the file name to the file you want to load\n",
    "# model_dataframe_income_threshold = pd.read_csv(f\"../results/{'model_sensitivity_results_income_threshold'}.csv\")"
   ]
  },
  {
   "cell_type": "markdown",
   "metadata": {},
   "source": [
    "**3.Subsidy Rate**"
   ]
  },
  {
   "cell_type": "code",
   "execution_count": 39,
   "metadata": {},
   "outputs": [],
   "source": [
    "# use defaultdict to store the results with different seeds\n",
    "model_results_subsidy_rate =  defaultdict(list)\n",
    "agent_results_subsidy_rate = defaultdict(list)\n",
    "# Run the sensitivity for different income thresholds, when income is 3000\n",
    "for subsidy in subsidy_rate:\n",
    "    for i in range(replication_number):\n",
    "        seed = i  # set the seed\n",
    "        model = AdaptationModel(number_of_households= number_of_households,subsidy_rate=subsidy, income_threshold=3000, flood_map_choice=\"harvey\", network=\"no_network\", seed=seed)\n",
    "        for tick in range(run_length):\n",
    "            model.step() \n",
    "        model_data4 = model.datacollector.get_model_vars_dataframe()\n",
    "        agent_data4 = model.datacollector.get_agent_vars_dataframe()\n",
    "        agent_data4.reset_index(inplace=True)\n",
    "        model_data4\n",
    "        model_results_subsidy_rate[i,subsidy].append(model_data4)\n",
    "        agent_results_subsidy_rate[i,subsidy].append(agent_data4)"
   ]
  },
  {
   "cell_type": "code",
   "execution_count": 40,
   "metadata": {},
   "outputs": [],
   "source": [
    "# Create a dictionary to hold the concatenated dataframes\n",
    "concatenated_dfs = {}\n",
    "\n",
    "# Concatenate the dataframes for each (i, rate) key\n",
    "for key, result_list in model_results_subsidy_rate.items():\n",
    "    i, rate = key\n",
    "    concatenated_dfs[key] = pd.concat(result_list)\n",
    "\n",
    "# Convert the dictionary of dataframes to a single dataframe\n",
    "model_dataframe_subsidy_rate = pd.concat(concatenated_dfs.values(), keys=concatenated_dfs.keys(), names=['replication/seed', 'subsidy_rate', 'Step'])\n",
    "\n",
    "# Reset the index \n",
    "model_dataframe_subsidy_rate.reset_index(inplace=True)\n",
    "\n"
   ]
  },
  {
   "cell_type": "code",
   "execution_count": 42,
   "metadata": {},
   "outputs": [
    {
     "name": "stderr",
     "output_type": "stream",
     "text": [
      "C:\\Users\\canan\\AppData\\Local\\Temp\\ipykernel_26396\\1714474735.py:10: FutureWarning: The behavior of DataFrame concatenation with empty or all-NA entries is deprecated. In a future version, this will no longer exclude empty or all-NA columns when determining the result dtypes. To retain the old behavior, exclude the relevant entries before the concat operation.\n",
      "  agent_dataframe_subsidy_rate = pd.concat(concatenated_dfs2.values(), keys=concatenated_dfs2.keys(), names=['replication/seed', 'subsidy_rate', 'index'])\n"
     ]
    }
   ],
   "source": [
    "# Create a dictionary to hold the concatenated dataframes\n",
    "concatenated_dfs2 = {}\n",
    "\n",
    "# Concatenate the dataframes for each (i, rate) key\n",
    "for key, result_list in agent_results_subsidy_rate.items():\n",
    "    i, rate = key\n",
    "    concatenated_dfs2[key] = pd.concat(result_list)\n",
    "\n",
    "# Convert the dictionary of dataframes to a single dataframe\n",
    "agent_dataframe_subsidy_rate = pd.concat(concatenated_dfs2.values(), keys=concatenated_dfs2.keys(), names=['replication/seed', 'subsidy_rate', 'index'])\n",
    "\n",
    "# Reset the index \n",
    "agent_dataframe_subsidy_rate.reset_index(inplace=True)\n",
    "# drop index column\n",
    "agent_dataframe_subsidy_rate.drop(columns=['index'], inplace=True)\n"
   ]
  },
  {
   "cell_type": "code",
   "execution_count": 44,
   "metadata": {},
   "outputs": [],
   "source": [
    "# save the results to csv files\n",
    "model_dataframe_subsidy_rate.to_csv(f\"../results/{'model_sensitivity_results_subsidy_rate'}.csv\", index=False)\n",
    "agent_dataframe_subsidy_rate.to_csv(f\"../results/{'agent_sensitivity_results_subsidy_rate'}.csv\", index=False)"
   ]
  },
  {
   "cell_type": "code",
   "execution_count": 47,
   "metadata": {},
   "outputs": [],
   "source": [
    "# upload the data with the following code\n",
    "# change the file name to the file you want to load\n",
    "# model_dataframe_subsidy_rate = pd.read_csv(f\"../results/{'model_sensitivity_results_subsidy_rate'}.csv\")"
   ]
  }
 ],
 "metadata": {
  "kernelspec": {
   "display_name": ".venv",
   "language": "python",
   "name": "python3"
  },
  "language_info": {
   "codemirror_mode": {
    "name": "ipython",
    "version": 3
   },
   "file_extension": ".py",
   "mimetype": "text/x-python",
   "name": "python",
   "nbconvert_exporter": "python",
   "pygments_lexer": "ipython3",
   "version": "3.11.4"
  }
 },
 "nbformat": 4,
 "nbformat_minor": 2
}
