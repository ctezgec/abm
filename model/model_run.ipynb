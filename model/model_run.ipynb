{
 "cells": [
  {
   "cell_type": "markdown",
   "metadata": {},
   "source": [
    "**Model Run**\n",
    "\n",
    "In this file, the model run as well as sensitivity analysis are conducted:\n",
    "\n",
    "1. Initial Model Run\n",
    "2. Sensitivity Analysis \n",
    "3. Experiment"
   ]
  },
  {
   "cell_type": "code",
   "execution_count": 10,
   "metadata": {},
   "outputs": [],
   "source": [
    "# import necessary libraries and model\n",
    "from model import AdaptationModel\n",
    "import matplotlib.pyplot as plt\n",
    "import networkx as nx\n",
    "from collections import defaultdict \n",
    "import pandas as pd"
   ]
  },
  {
   "cell_type": "code",
   "execution_count": 2,
   "metadata": {},
   "outputs": [],
   "source": [
    "# set-up model parameters\n",
    "# run time: 100 years --> 400 quarters, so 400 ticks in total\n",
    "run_length = 400\n",
    "# set the number of replications \n",
    "replication_number = 10\n",
    "# set the number of households\n",
    "number_of_households = 500"
   ]
  },
  {
   "cell_type": "markdown",
   "metadata": {},
   "source": [
    "**Initial Run**"
   ]
  },
  {
   "cell_type": "code",
   "execution_count": 3,
   "metadata": {},
   "outputs": [],
   "source": [
    "# use defaultdict to store the results with different seeds\n",
    "model_results =  defaultdict(list)\n",
    "agent_results = defaultdict(list)\n",
    "# Run the model based on the parameters above, no subsidy included\n",
    "for i in range(replication_number):\n",
    "    seed = i  # set the seed\n",
    "    model = AdaptationModel(number_of_households= number_of_households,subsidy_rate=0, income_threshold=2000, flood_map_choice=\"harvey\", network=\"no_network\", seed=seed)\n",
    "    for tick in range(run_length):\n",
    "        model.step() \n",
    "    model_data = model.datacollector.get_model_vars_dataframe()\n",
    "    agent_data = model.datacollector.get_agent_vars_dataframe()\n",
    "    model_results[i].append(model_data)\n",
    "    agent_results[i].append(agent_data)\n",
    "        "
   ]
  },
  {
   "cell_type": "markdown",
   "metadata": {},
   "source": [
    "**Save the Results**"
   ]
  },
  {
   "cell_type": "code",
   "execution_count": 11,
   "metadata": {},
   "outputs": [],
   "source": [
    "def convert_to_dataframe(results, replication_number):\n",
    "    \"\"\"Convert the results to a dataframe, single index\"\"\"\n",
    "    dfs = [pd.concat(results[i], keys=[i], names=['replication/seed']) for i in range(replication_number)]\n",
    "    dataframe = pd.concat(dfs)\n",
    "    dataframe.reset_index(inplace=True)\n",
    "    dataframe.rename(columns={'level_1': 'Step'}, inplace=True)\n",
    "    return dataframe"
   ]
  },
  {
   "cell_type": "code",
   "execution_count": 5,
   "metadata": {},
   "outputs": [],
   "source": [
    "# convert the model results to dataframe\n",
    "model_dataframe = convert_to_dataframe(model_results, replication_number)\n",
    "# convert the agent results to dataframe\n",
    "agent_dataframe = convert_to_dataframe(agent_results, replication_number)"
   ]
  },
  {
   "cell_type": "code",
   "execution_count": 87,
   "metadata": {},
   "outputs": [],
   "source": [
    "# Save the results to csv files\n",
    "model_dataframe.to_csv(f\"../results/{'model_results_no_subsidy'}.csv\", index=False)\n",
    "agent_dataframe.to_csv(f\"../results/{'agent_results_no_subsidy'}.csv\", index=False)"
   ]
  },
  {
   "cell_type": "code",
   "execution_count": 62,
   "metadata": {},
   "outputs": [],
   "source": [
    "# Load the data with the following code\n",
    "# change the file name to the file you want to load\n",
    "#model_dataframe = pd.read_csv(f\"../results/{'model_results'}.csv\")"
   ]
  },
  {
   "cell_type": "markdown",
   "metadata": {},
   "source": [
    "**Sensitivity Analysis**"
   ]
  },
  {
   "cell_type": "code",
   "execution_count": 3,
   "metadata": {},
   "outputs": [],
   "source": [
    "# Parameters for the sensitivity analysis\n",
    "subsidy_rate = [0, 0.1, 0.2, 0.3, 0.4, 0.5, 0.6, \n",
    "                0.7, 0.8, 0.9, 1]   # subsidy rate offered\n",
    "income_threshold = [0, 1000, 3000, 5000, 8000, 10000] # agents which have lower income then the threshold eligible for subsidy\n",
    "saving_threshold = [0, 0.1, 0.25, 0.5, 0.75] # agent calculate_saving(self) threshold, for saving or consuming\n",
    "flood_probabilities = [0.02, 0.07, 0.1, 0.3, 0.5, 0.7] # different flood probabilities for harvey map"
   ]
  },
  {
   "cell_type": "markdown",
   "metadata": {},
   "source": [
    "**1. Saving Threshold Sensitivity**"
   ]
  },
  {
   "cell_type": "code",
   "execution_count": 12,
   "metadata": {},
   "outputs": [],
   "source": [
    "# use defaultdict to store the results with different seeds\n",
    "model_results_saving_threshold =  defaultdict(list)\n",
    "agent_results_saving_threshold = defaultdict(list)\n",
    "# Run the sensitivity for different saving thresholds, no subsidy included\n",
    "for rate in saving_threshold:\n",
    "    for i in range(replication_number):\n",
    "        seed = i  # set the seed\n",
    "        model = AdaptationModel(number_of_households= number_of_households,subsidy_rate=0, income_threshold=2000, saving_threshold=rate, flood_map_choice=\"harvey\", network=\"no_network\", seed=seed)\n",
    "        for tick in range(run_length):\n",
    "            model.step() \n",
    "        model_data2 = model.datacollector.get_model_vars_dataframe()\n",
    "        agent_data2 = model.datacollector.get_agent_vars_dataframe()\n",
    "        agent_data2.reset_index(inplace=True)\n",
    "        model_results_saving_threshold[i,rate].append(model_data2)\n",
    "        agent_results_saving_threshold[i,rate].append(agent_data2)"
   ]
  },
  {
   "cell_type": "markdown",
   "metadata": {},
   "source": [
    "**Save the Results**"
   ]
  },
  {
   "cell_type": "code",
   "execution_count": 13,
   "metadata": {},
   "outputs": [],
   "source": [
    "# Create a dictionary to hold the concatenated dataframes\n",
    "concatenated_dfs = {}\n",
    "\n",
    "# Concatenate the dataframes for each (i, rate) key\n",
    "for key, result_list in model_results_saving_threshold.items():\n",
    "    i, rate = key\n",
    "    concatenated_dfs[key] = pd.concat(result_list)\n",
    "\n",
    "# Convert the dictionary of dataframes to a single dataframe\n",
    "model_dataframe_saving_threshold = pd.concat(concatenated_dfs.values(), keys=concatenated_dfs.keys(), names=['replication/seed', 'rate', 'Step'])\n",
    "\n",
    "# Reset the index \n",
    "model_dataframe_saving_threshold.reset_index(inplace=True)\n"
   ]
  },
  {
   "cell_type": "code",
   "execution_count": 14,
   "metadata": {},
   "outputs": [],
   "source": [
    "# Create a dictionary to hold the concatenated dataframes\n",
    "concatenated_dfs2 = {}\n",
    "\n",
    "# Concatenate the dataframes for each (i, rate) key\n",
    "for key, result_list in agent_results_saving_threshold.items():\n",
    "    i, rate = key\n",
    "    concatenated_dfs2[key] = pd.concat(result_list)\n",
    "\n",
    "# Convert the dictionary of dataframes to a single dataframe\n",
    "agent_dataframe_saving_threshold = pd.concat(concatenated_dfs2.values(), keys=concatenated_dfs2.keys(), names=['replication/seed', 'rate', 'index'])\n",
    "\n",
    "# Reset the index \n",
    "agent_dataframe_saving_threshold.reset_index(inplace=True)\n",
    "# drop index column\n",
    "agent_dataframe_saving_threshold.drop(columns=['index'], inplace=True)\n"
   ]
  },
  {
   "cell_type": "code",
   "execution_count": 97,
   "metadata": {},
   "outputs": [],
   "source": [
    "# Save the results to csv files\n",
    "model_dataframe_saving_threshold.to_csv(f\"../results/{'model_sensitivity_results_saving_threshold'}.csv\", index=False)\n",
    "agent_dataframe_saving_threshold.to_csv(f\"../results/{'agent_sensitivity_results_saving_threshold'}.csv\", index=False)"
   ]
  },
  {
   "cell_type": "code",
   "execution_count": 100,
   "metadata": {},
   "outputs": [],
   "source": [
    "#upload the data with the following code\n",
    "# change the file name to the file you want to load\n",
    "#model_dataframe_saving_threshold = pd.read_csv(f\"../results/{'model_sensitivity_results_saving_threshold'}.csv\")"
   ]
  },
  {
   "cell_type": "markdown",
   "metadata": {},
   "source": [
    "**2.Income Threshold**"
   ]
  },
  {
   "cell_type": "code",
   "execution_count": 18,
   "metadata": {},
   "outputs": [],
   "source": [
    "# use defaultdict to store the results with different seeds\n",
    "model_results_income_threshold =  defaultdict(list)\n",
    "agent_results_income_threshold = defaultdict(list)\n",
    "# Run the sensitivity for different income thresholds, when subsidy is 10% and saving threshold 0.25\n",
    "for income in income_threshold:\n",
    "    for i in range(replication_number):\n",
    "        seed = i  # set the seed\n",
    "        model = AdaptationModel(number_of_households= number_of_households,subsidy_rate=0.1, income_threshold=income, saving_threshold=0.25, flood_map_choice=\"harvey\", network=\"no_network\", seed=seed)\n",
    "        for tick in range(run_length):\n",
    "            model.step() \n",
    "        model_data3 = model.datacollector.get_model_vars_dataframe()\n",
    "        agent_data3 = model.datacollector.get_agent_vars_dataframe()\n",
    "        agent_data3.reset_index(inplace=True)\n",
    "        model_results_income_threshold[i,income].append(model_data3)\n",
    "        agent_results_income_threshold[i,income].append(agent_data3)"
   ]
  },
  {
   "cell_type": "markdown",
   "metadata": {},
   "source": [
    "**Save the Results**"
   ]
  },
  {
   "cell_type": "code",
   "execution_count": 21,
   "metadata": {},
   "outputs": [],
   "source": [
    "# Create a dictionary to hold the concatenated dataframes\n",
    "concatenated_dfs = {}\n",
    "\n",
    "# Concatenate the dataframes for each key\n",
    "for key, result_list in model_results_income_threshold.items():\n",
    "    i, income = key\n",
    "    concatenated_dfs[key] = pd.concat(result_list)\n",
    "\n",
    "# Convert the dictionary of dataframes to a single dataframe\n",
    "model_dataframe_income_threshold = pd.concat(concatenated_dfs.values(), keys=concatenated_dfs.keys(), names=['replication/seed', 'income_threshold', 'Step'])\n",
    "\n",
    "# Reset the index \n",
    "model_dataframe_income_threshold.reset_index(inplace=True)\n",
    "\n"
   ]
  },
  {
   "cell_type": "code",
   "execution_count": 22,
   "metadata": {},
   "outputs": [
    {
     "name": "stderr",
     "output_type": "stream",
     "text": [
      "C:\\Users\\canan\\AppData\\Local\\Temp\\ipykernel_26396\\1200854002.py:10: FutureWarning: The behavior of DataFrame concatenation with empty or all-NA entries is deprecated. In a future version, this will no longer exclude empty or all-NA columns when determining the result dtypes. To retain the old behavior, exclude the relevant entries before the concat operation.\n",
      "  agent_dataframe_income_threshold = pd.concat(concatenated_dfs2.values(), keys=concatenated_dfs2.keys(), names=['replication/seed', 'income_threshold', 'index'])\n"
     ]
    }
   ],
   "source": [
    "# Create a dictionary to hold the concatenated dataframes\n",
    "concatenated_dfs2 = {}\n",
    "\n",
    "# Concatenate the dataframes for each (i, rate) key\n",
    "for key, result_list in agent_results_income_threshold.items():\n",
    "    i, income = key\n",
    "    concatenated_dfs2[key] = pd.concat(result_list)\n",
    "\n",
    "# Convert the dictionary of dataframes to a single dataframe\n",
    "agent_dataframe_income_threshold = pd.concat(concatenated_dfs2.values(), keys=concatenated_dfs2.keys(), names=['replication/seed', 'income_threshold', 'index'])\n",
    "\n",
    "# Reset the index \n",
    "agent_dataframe_income_threshold.reset_index(inplace=True)\n",
    "# drop index column\n",
    "agent_dataframe_income_threshold.drop(columns=['index'], inplace=True)\n"
   ]
  },
  {
   "cell_type": "code",
   "execution_count": 35,
   "metadata": {},
   "outputs": [],
   "source": [
    "# save the results to csv files\n",
    "model_dataframe_income_threshold.to_csv(f\"../results/{'model_sensitivity_results_income_threshold'}.csv\", index=False)\n",
    "agent_dataframe_income_threshold.to_csv(f\"../results/{'agent_sensitivity_results_income_threshold'}.csv\", index=False)"
   ]
  },
  {
   "cell_type": "code",
   "execution_count": 38,
   "metadata": {},
   "outputs": [],
   "source": [
    "# upload the data with the following code\n",
    "# change the file name to the file you want to load\n",
    "# model_dataframe_income_threshold = pd.read_csv(f\"../results/{'model_sensitivity_results_income_threshold'}.csv\")"
   ]
  },
  {
   "cell_type": "markdown",
   "metadata": {},
   "source": [
    "**3.Subsidy Rate**"
   ]
  },
  {
   "cell_type": "code",
   "execution_count": 16,
   "metadata": {},
   "outputs": [],
   "source": [
    "# use defaultdict to store the results with different seeds\n",
    "model_results_subsidy_rate =  defaultdict(list)\n",
    "agent_results_subsidy_rate = defaultdict(list)\n",
    "# Run the sensitivity for different income thresholds, when income is 3000 and saving threshold 0.25\n",
    "for subsidy in subsidy_rate:\n",
    "    for i in range(replication_number):\n",
    "        seed = i  # set the seed\n",
    "        model = AdaptationModel(number_of_households= number_of_households,subsidy_rate=subsidy, income_threshold=3000, saving_threshold=0.25, flood_map_choice=\"harvey\", network=\"no_network\", seed=seed)\n",
    "        for tick in range(run_length):\n",
    "            model.step() \n",
    "        model_data4 = model.datacollector.get_model_vars_dataframe()\n",
    "        agent_data4 = model.datacollector.get_agent_vars_dataframe()\n",
    "        agent_data4.reset_index(inplace=True)\n",
    "        model_results_subsidy_rate[i,subsidy].append(model_data4)\n",
    "        agent_results_subsidy_rate[i,subsidy].append(agent_data4)"
   ]
  },
  {
   "cell_type": "markdown",
   "metadata": {},
   "source": [
    "**Save the Results**"
   ]
  },
  {
   "cell_type": "code",
   "execution_count": 17,
   "metadata": {},
   "outputs": [],
   "source": [
    "# Create a dictionary to hold the concatenated dataframes\n",
    "concatenated_dfs = {}\n",
    "\n",
    "# Concatenate the dataframes for each key\n",
    "for key, result_list in model_results_subsidy_rate.items():\n",
    "    i, subsidy = key\n",
    "    concatenated_dfs[key] = pd.concat(result_list)\n",
    "\n",
    "# Convert the dictionary of dataframes to a single dataframe\n",
    "model_dataframe_subsidy_rate = pd.concat(concatenated_dfs.values(), keys=concatenated_dfs.keys(), names=['replication/seed', 'subsidy_rate', 'Step'])\n",
    "\n",
    "# Reset the index \n",
    "model_dataframe_subsidy_rate.reset_index(inplace=True)\n",
    "\n"
   ]
  },
  {
   "cell_type": "code",
   "execution_count": 18,
   "metadata": {},
   "outputs": [
    {
     "name": "stderr",
     "output_type": "stream",
     "text": [
      "C:\\Users\\canan\\AppData\\Local\\Temp\\ipykernel_20300\\2155249906.py:10: FutureWarning: The behavior of DataFrame concatenation with empty or all-NA entries is deprecated. In a future version, this will no longer exclude empty or all-NA columns when determining the result dtypes. To retain the old behavior, exclude the relevant entries before the concat operation.\n",
      "  agent_dataframe_subsidy_rate = pd.concat(concatenated_dfs2.values(), keys=concatenated_dfs2.keys(), names=['replication/seed', 'subsidy_rate', 'index'])\n"
     ]
    }
   ],
   "source": [
    "# Create a dictionary to hold the concatenated dataframes\n",
    "concatenated_dfs2 = {}\n",
    "\n",
    "# Concatenate the dataframes for each key\n",
    "for key, result_list in agent_results_subsidy_rate.items():\n",
    "    i, subsidy = key\n",
    "    concatenated_dfs2[key] = pd.concat(result_list)\n",
    "\n",
    "# Convert the dictionary of dataframes to a single dataframe\n",
    "agent_dataframe_subsidy_rate = pd.concat(concatenated_dfs2.values(), keys=concatenated_dfs2.keys(), names=['replication/seed', 'subsidy_rate', 'index'])\n",
    "\n",
    "# Reset the index \n",
    "agent_dataframe_subsidy_rate.reset_index(inplace=True)\n",
    "# drop index column\n",
    "agent_dataframe_subsidy_rate.drop(columns=['index'], inplace=True)\n"
   ]
  },
  {
   "cell_type": "code",
   "execution_count": 44,
   "metadata": {},
   "outputs": [],
   "source": [
    "# save the results to csv files\n",
    "model_dataframe_subsidy_rate.to_csv(f\"../results/{'model_sensitivity_results_subsidy_rate'}.csv\", index=False)\n",
    "agent_dataframe_subsidy_rate.to_csv(f\"../results/{'agent_sensitivity_results_subsidy_rate'}.csv\", index=False)"
   ]
  },
  {
   "cell_type": "code",
   "execution_count": 47,
   "metadata": {},
   "outputs": [],
   "source": [
    "# upload the data with the following code\n",
    "# change the file name to the file you want to load\n",
    "# model_dataframe_subsidy_rate = pd.read_csv(f\"../results/{'model_sensitivity_results_subsidy_rate'}.csv\")"
   ]
  },
  {
   "cell_type": "markdown",
   "metadata": {},
   "source": [
    "**4. Flood Probabilities**"
   ]
  },
  {
   "cell_type": "code",
   "execution_count": 8,
   "metadata": {},
   "outputs": [],
   "source": [
    "# use defaultdict to store the results with different seeds\n",
    "model_results_flood_prob =  defaultdict(list)\n",
    "agent_results_flood_prob = defaultdict(list)\n",
    "# Run the sensitivity for different flood prob, no subsidy included\n",
    "for prob in flood_probabilities:\n",
    "    for i in range(replication_number):\n",
    "        seed = i  # set the seed\n",
    "        model = AdaptationModel(number_of_households = number_of_households,\n",
    "                                harvey_probability=prob, subsidy_rate=0,\n",
    "                                  income_threshold=2000, saving_threshold=0.25, \n",
    "                                flood_map_choice=\"harvey\", network=\"no_network\", seed=seed)\n",
    "        \n",
    "        for tick in range(run_length):\n",
    "            model.step() \n",
    "        model_data5 = model.datacollector.get_model_vars_dataframe()\n",
    "        agent_data5 = model.datacollector.get_agent_vars_dataframe()\n",
    "        agent_data5.reset_index(inplace=True)\n",
    "        model_results_flood_prob[i,prob].append(model_data5)\n",
    "        agent_results_flood_prob[i,prob].append(agent_data5)"
   ]
  },
  {
   "cell_type": "markdown",
   "metadata": {},
   "source": [
    "**Save the Results**"
   ]
  },
  {
   "cell_type": "code",
   "execution_count": 9,
   "metadata": {},
   "outputs": [],
   "source": [
    "# Create a dictionary to hold the concatenated dataframes\n",
    "concatenated_dfs = {}\n",
    "\n",
    "# Concatenate the dataframes for each (i, rate) key\n",
    "for key, result_list in model_results_flood_prob.items():\n",
    "    i, prob = key\n",
    "    concatenated_dfs[key] = pd.concat(result_list)\n",
    "\n",
    "# Convert the dictionary of dataframes to a single dataframe\n",
    "model_dataframe_flood_prob = pd.concat(concatenated_dfs.values(), keys=concatenated_dfs.keys(), names=['replication/seed', 'flood_probability', 'Step'])\n",
    "\n",
    "# Reset the index \n",
    "model_dataframe_flood_prob.reset_index(inplace=True)\n",
    "\n"
   ]
  },
  {
   "cell_type": "code",
   "execution_count": 11,
   "metadata": {},
   "outputs": [
    {
     "name": "stderr",
     "output_type": "stream",
     "text": [
      "C:\\Users\\canan\\AppData\\Local\\Temp\\ipykernel_23604\\2904118766.py:10: FutureWarning: The behavior of DataFrame concatenation with empty or all-NA entries is deprecated. In a future version, this will no longer exclude empty or all-NA columns when determining the result dtypes. To retain the old behavior, exclude the relevant entries before the concat operation.\n",
      "  agent_dataframe_flood_prob = pd.concat(concatenated_dfs2.values(), keys=concatenated_dfs2.keys(), names=['replication/seed', 'flood_probability', 'index'])\n"
     ]
    }
   ],
   "source": [
    "# Create a dictionary to hold the concatenated dataframes\n",
    "concatenated_dfs2 = {}\n",
    "\n",
    "# Concatenate the dataframes for each (i, rate) key\n",
    "for key, result_list in agent_results_flood_prob.items():\n",
    "    i, prob = key\n",
    "    concatenated_dfs2[key] = pd.concat(result_list)\n",
    "\n",
    "# Convert the dictionary of dataframes to a single dataframe\n",
    "agent_dataframe_flood_prob = pd.concat(concatenated_dfs2.values(), keys=concatenated_dfs2.keys(), names=['replication/seed', 'flood_probability', 'index'])\n",
    "\n",
    "# Reset the index \n",
    "agent_dataframe_flood_prob.reset_index(inplace=True)\n",
    "# drop index column\n",
    "agent_dataframe_flood_prob.drop(columns=['index'], inplace=True)\n"
   ]
  },
  {
   "cell_type": "code",
   "execution_count": 13,
   "metadata": {},
   "outputs": [],
   "source": [
    "# save the results to csv files\n",
    "model_dataframe_flood_prob.to_csv(f\"../results/{'model_sensitivity_results_flood_prob'}.csv\", index=False)\n",
    "agent_dataframe_flood_prob.to_csv(f\"../results/{'agent_sensitivity_results_flood_prob'}.csv\", index=False)"
   ]
  },
  {
   "cell_type": "markdown",
   "metadata": {},
   "source": [
    "**Experiment**"
   ]
  },
  {
   "cell_type": "markdown",
   "metadata": {},
   "source": [
    "According to the results above you can check/change the design below! You can come up with better parameters\n",
    " **(delete this comment)**!!!1 you can also remove/add some of the parameters from the lists I created !!!!!!!1"
   ]
  },
  {
   "cell_type": "code",
   "execution_count": 53,
   "metadata": {},
   "outputs": [],
   "source": [
    "# Experimental design\n",
    "flood_probability_experiment = [0.02, 0.07, 0.1, 0.3, 0.5]  # different flood probabilities\n",
    "subsidy_rate_experiment = [0, 0.1, 0.3]   \n",
    "income_threshold_experiment = [1000, 5000, 8000]"
   ]
  },
  {
   "cell_type": "code",
   "execution_count": 55,
   "metadata": {},
   "outputs": [],
   "source": [
    "# use defaultdict to store the results with different seeds\n",
    "model_results_experiment =  defaultdict(list)\n",
    "agent_results_experiment = defaultdict(list)\n",
    "# Run the model\n",
    "for prob in flood_probability_experiment: \n",
    "    for subsidy in subsidy_rate_experiment:\n",
    "        for income in income_threshold_experiment:\n",
    "            for i in range(replication_number):\n",
    "                seed = i  # set the seed\n",
    "                model = AdaptationModel(number_of_households = number_of_households,\n",
    "                                            subsidy_rate=subsidy, \n",
    "                                            income_threshold=income, \n",
    "                                            saving_threshold=0.25, \n",
    "                                            harvey_probability=prob,\n",
    "                                            flood_map_choice=\"harvey\", network=\"no_network\", seed=seed)\n",
    "                for tick in range(run_length):\n",
    "                    model.step() \n",
    "\n",
    "                model_data6 = model.datacollector.get_model_vars_dataframe()\n",
    "                agent_data6 = model.datacollector.get_agent_vars_dataframe()\n",
    "                agent_data6.reset_index(inplace=True)\n",
    "                model_results_experiment[i,prob,subsidy,income].append(model_data6)\n",
    "                agent_results_experiment[i,prob,subsidy,income].append(agent_data6)"
   ]
  },
  {
   "cell_type": "markdown",
   "metadata": {},
   "source": [
    "**Save the Results**"
   ]
  },
  {
   "cell_type": "code",
   "execution_count": 61,
   "metadata": {},
   "outputs": [],
   "source": [
    "# Create a dictionary to hold the concatenated dataframes\n",
    "concatenated_dfs = {}\n",
    "\n",
    "# Concatenate the dataframes for each (i, subsidy, income, rate) key\n",
    "for key, result_list in model_results_experiment.items():\n",
    "    i, prob, subsidy, income = key\n",
    "    concatenated_dfs[key] = pd.concat(result_list)\n",
    "\n",
    "# Convert the dictionary of dataframes to a single dataframe\n",
    "model_dataframe_experiment = pd.concat(concatenated_dfs.values(), keys=concatenated_dfs.keys(), names=['replication/seed','flood_probability','subsidy_rate', 'income_threshold', 'Step'])\n",
    "\n",
    "# Reset the index\n",
    "model_dataframe_experiment.reset_index(inplace=True)\n",
    "\n"
   ]
  },
  {
   "cell_type": "code",
   "execution_count": 63,
   "metadata": {},
   "outputs": [],
   "source": [
    "# Create a dictionary to hold the concatenated dataframes\n",
    "concatenated_dfs2 = {}\n",
    "\n",
    "# Concatenate the dataframes for each (i, subsidy, income, rate) key    \n",
    "for key, result_list in agent_results_experiment.items():\n",
    "    i, prob, subsidy, income = key\n",
    "    concatenated_dfs2[key] = pd.concat(result_list)\n",
    "\n",
    "# Convert the dictionary of dataframes to a single dataframe\n",
    "agent_dataframe_experiment = pd.concat(concatenated_dfs2.values(), keys=concatenated_dfs2.keys(), names=['replication/seed', 'flood_probability', 'subsidy_rate', 'income_threshold', 'index'])\n",
    "\n",
    "# Reset the index\n",
    "agent_dataframe_experiment.reset_index(inplace=True)\n",
    "# drop index column\n",
    "agent_dataframe_experiment.drop(columns=['index'], inplace=True)\n"
   ]
  },
  {
   "cell_type": "code",
   "execution_count": 65,
   "metadata": {},
   "outputs": [],
   "source": [
    "# save the results to csv files\n",
    "model_dataframe_experiment.to_csv(f\"../results/{'model_experiment_results'}.csv\", index=False)\n",
    "agent_dataframe_experiment.to_csv(f\"../results/{'agent_experiment_results'}.csv\", index=False)"
   ]
  },
  {
   "cell_type": "code",
   "execution_count": 66,
   "metadata": {},
   "outputs": [],
   "source": [
    "# upload the data with the following code\n",
    "# change the file name to the file you want to load\n",
    "# model_dataframe_experiment = pd.read_csv(f\"../results/{'model_experiment_results'}.csv\")\n",
    "# agent_dataframe_experiment = pd.read_csv(f\"../results/{'agent_experiment_results'}.csv\")"
   ]
  }
 ],
 "metadata": {
  "kernelspec": {
   "display_name": ".venv",
   "language": "python",
   "name": "python3"
  },
  "language_info": {
   "codemirror_mode": {
    "name": "ipython",
    "version": 3
   },
   "file_extension": ".py",
   "mimetype": "text/x-python",
   "name": "python",
   "nbconvert_exporter": "python",
   "pygments_lexer": "ipython3",
   "version": "3.11.4"
  }
 },
 "nbformat": 4,
 "nbformat_minor": 2
}
