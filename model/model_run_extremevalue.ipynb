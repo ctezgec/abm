{
 "cells": [
  {
   "cell_type": "markdown",
   "metadata": {},
   "source": [
    "**Model Run For Extreme value**\n",
    "\n",
    "In this file, the model run as well as sensitivity analysis are conducted:\n",
    "\n",
    "1. Initial Model Run\n",
    "2. Extreme Value Test"
   ]
  },
  {
   "cell_type": "code",
   "execution_count": 1,
   "metadata": {
    "ExecuteTime": {
     "end_time": "2024-01-30T16:41:41.370866Z",
     "start_time": "2024-01-30T16:41:39.666213Z"
    }
   },
   "outputs": [],
   "source": [
    "# import necessary libraries and model\n",
    "from model import AdaptationModel\n",
    "import matplotlib.pyplot as plt\n",
    "import networkx as nx\n",
    "from collections import defaultdict \n",
    "import pandas as pd\n",
    "from IPython.display import display, HTML"
   ]
  },
  {
   "cell_type": "code",
   "execution_count": 2,
   "metadata": {
    "ExecuteTime": {
     "end_time": "2024-01-30T16:41:41.375193Z",
     "start_time": "2024-01-30T16:41:41.369737Z"
    }
   },
   "outputs": [],
   "source": [
    "# set-up model parameters\n",
    "# run time: 100 years --> 400 quarters, so 400 ticks in total\n",
    "run_length = 400\n",
    "# set the number of replications \n",
    "replication_number = 5\n",
    "# set the number of households\n",
    "number_of_households = 500"
   ]
  },
  {
   "cell_type": "markdown",
   "metadata": {},
   "source": [
    "**Initial Run**"
   ]
  },
  {
   "cell_type": "code",
   "execution_count": 3,
   "metadata": {
    "ExecuteTime": {
     "end_time": "2024-01-30T16:41:51.171785Z",
     "start_time": "2024-01-30T16:41:41.390116Z"
    }
   },
   "outputs": [],
   "source": [
    "# use defaultdict to store the results with different seeds\n",
    "model_results =  defaultdict(list)\n",
    "agent_results = defaultdict(list)\n",
    "# Run the model based on the parameters above, no subsidy included\n",
    "for i in range(replication_number):\n",
    "    seed = i  # set the seed\n",
    "    model = AdaptationModel(number_of_households= number_of_households,subsidy_rate= 0.5, income_threshold=4000, saving_threshold = 0.5, harvey_probability = 0.07, flood_map_choice=\"harvey\", network=\"no_network\", seed=seed)\n",
    "    for tick in range(run_length):\n",
    "        model.step() \n",
    "    model_data = model.datacollector.get_model_vars_dataframe()\n",
    "    agent_data = model.datacollector.get_agent_vars_dataframe()\n",
    "    model_results[i].append(model_data)\n",
    "    agent_results[i].append(agent_data)\n",
    "        "
   ]
  },
  {
   "cell_type": "markdown",
   "metadata": {},
   "source": [
    "**Save the Results**"
   ]
  },
  {
   "cell_type": "code",
   "execution_count": 4,
   "metadata": {
    "ExecuteTime": {
     "end_time": "2024-01-30T16:41:51.173855Z",
     "start_time": "2024-01-30T16:41:51.171511Z"
    }
   },
   "outputs": [],
   "source": [
    "def convert_to_dataframe(results, replication_number):\n",
    "    \"\"\"Convert the results to a dataframe, single index\"\"\"\n",
    "    dfs = [pd.concat(results[i], keys=[i], names=['replication/seed']) for i in range(replication_number)]\n",
    "    dataframe = pd.concat(dfs)\n",
    "    dataframe.reset_index(inplace=True)\n",
    "    dataframe.rename(columns={'level_1': 'Step'}, inplace=True)\n",
    "    return dataframe"
   ]
  },
  {
   "cell_type": "code",
   "execution_count": 5,
   "metadata": {
    "ExecuteTime": {
     "end_time": "2024-01-30T16:41:51.195819Z",
     "start_time": "2024-01-30T16:41:51.175079Z"
    }
   },
   "outputs": [],
   "source": [
    "# convert the model results to dataframe\n",
    "model_dataframe = convert_to_dataframe(model_results, replication_number)"
   ]
  },
  {
   "cell_type": "code",
   "execution_count": 6,
   "metadata": {
    "ExecuteTime": {
     "end_time": "2024-01-30T16:41:51.209852Z",
     "start_time": "2024-01-30T16:41:51.185705Z"
    }
   },
   "outputs": [],
   "source": [
    "# Save the results to csv files\n",
    "model_dataframe.to_csv(f\"../result_extremevalue/{'model_results_initial'}.csv\", index=False)"
   ]
  },
  {
   "cell_type": "markdown",
   "metadata": {},
   "source": [
    "**Extreme Value Test**"
   ]
  },
  {
   "cell_type": "code",
   "execution_count": 7,
   "metadata": {
    "ExecuteTime": {
     "end_time": "2024-01-30T16:41:51.233177Z",
     "start_time": "2024-01-30T16:41:51.216122Z"
    }
   },
   "outputs": [],
   "source": [
    "# Parameters for the sensitivity analysis\n",
    "subsidy_rate = [0, 0.25, 0.5, 0.75, 1]   # subsidy rate offered\n",
    "income_threshold = [0, 2000, 4000, 8000, 12000] # agents which have lower income then the threshold eligible for subsidy\n",
    "saving_threshold = [0, 0.25, 0.5, 0.75, 1] # agent calculate_saving(self) threshold, for saving or consuming\n",
    "flood_probabilities = [0.01, 0.03, 0.07, 0.3, 0.7, 1] # different flood probabilities for harvey map"
   ]
  },
  {
   "cell_type": "markdown",
   "metadata": {},
   "source": [
    "**1. Saving Threshold Extreme Value**"
   ]
  },
  {
   "cell_type": "code",
   "execution_count": 8,
   "metadata": {
    "ExecuteTime": {
     "end_time": "2024-01-30T16:42:25.720833Z",
     "start_time": "2024-01-30T16:41:51.221916Z"
    }
   },
   "outputs": [],
   "source": [
    "# use defaultdict to store the results with different seeds\n",
    "model_results_saving_threshold =  defaultdict(list)\n",
    "# Run the sensitivity for different saving thresholds, no subsidy included\n",
    "for rate in saving_threshold:\n",
    "    for i in range(replication_number):\n",
    "        seed = i  # set the seed\n",
    "        model = AdaptationModel(number_of_households= number_of_households,subsidy_rate= 0.5, income_threshold=4000, saving_threshold = rate, harvey_probability = 0.07, flood_map_choice=\"harvey\", network=\"no_network\", seed=seed)\n",
    "        for tick in range(run_length):\n",
    "            model.step() \n",
    "        model_data2 = model.datacollector.get_model_vars_dataframe()\n",
    "        model_results_saving_threshold[i,rate].append(model_data2)"
   ]
  },
  {
   "cell_type": "markdown",
   "metadata": {},
   "source": [
    "**Save the Results**"
   ]
  },
  {
   "cell_type": "code",
   "execution_count": 9,
   "outputs": [],
   "source": [
    "# Create a dictionary to hold the concatenated dataframes\n",
    "concatenated_dfs = {}\n",
    "\n",
    "# Concatenate the dataframes for each (i, rate) key\n",
    "for key, result_list in model_results_saving_threshold.items():\n",
    "    i, rate = key\n",
    "    concatenated_dfs[key] = pd.concat(result_list)\n",
    "\n",
    "# Convert the dictionary of dataframes to a single dataframe\n",
    "model_dataframe_saving_threshold = pd.concat(concatenated_dfs.values(), keys=concatenated_dfs.keys(), names=['replication/seed', 'rate', 'Step'])\n",
    "\n",
    "# Reset the index \n",
    "model_dataframe_saving_threshold.reset_index(inplace=True)\n"
   ],
   "metadata": {
    "collapsed": false,
    "ExecuteTime": {
     "end_time": "2024-01-30T16:42:25.738128Z",
     "start_time": "2024-01-30T16:42:25.723506Z"
    }
   }
  },
  {
   "cell_type": "code",
   "execution_count": 10,
   "metadata": {
    "ExecuteTime": {
     "end_time": "2024-01-30T16:42:25.803866Z",
     "start_time": "2024-01-30T16:42:25.732348Z"
    }
   },
   "outputs": [],
   "source": [
    "# Save the results to csv files\n",
    "model_dataframe_saving_threshold.to_csv(f\"../result_extremevalue/{'model_sensitivity_results_saving_threshold'}.csv\", index=False)"
   ]
  },
  {
   "cell_type": "markdown",
   "metadata": {},
   "source": [
    "**2.Income Threshold**"
   ]
  },
  {
   "cell_type": "code",
   "execution_count": 11,
   "metadata": {
    "ExecuteTime": {
     "end_time": "2024-01-30T16:43:00.255304Z",
     "start_time": "2024-01-30T16:42:25.805806Z"
    }
   },
   "outputs": [],
   "source": [
    "# use defaultdict to store the results with different seeds\n",
    "model_results_income_threshold =  defaultdict(list)\n",
    "# Run the sensitivity for different income thresholds, when subsidy is 10% and saving threshold 0.25\n",
    "for income in income_threshold:\n",
    "    for i in range(replication_number):\n",
    "        seed = i  # set the seed\n",
    "        model = AdaptationModel(number_of_households= number_of_households,subsidy_rate= 0.5, income_threshold=income, saving_threshold = 0.5, harvey_probability = 0.07, flood_map_choice=\"harvey\", network=\"no_network\", seed=seed)\n",
    "        for tick in range(run_length):\n",
    "            model.step() \n",
    "        model_data3 = model.datacollector.get_model_vars_dataframe()\n",
    "        model_results_income_threshold[i,income].append(model_data3)"
   ]
  },
  {
   "cell_type": "markdown",
   "metadata": {},
   "source": [
    "**Save the Results**"
   ]
  },
  {
   "cell_type": "code",
   "execution_count": 12,
   "metadata": {
    "ExecuteTime": {
     "end_time": "2024-01-30T16:43:00.258275Z",
     "start_time": "2024-01-30T16:43:00.253681Z"
    }
   },
   "outputs": [],
   "source": [
    "# Create a dictionary to hold the concatenated dataframes\n",
    "concatenated_dfs = {}\n",
    "\n",
    "# Concatenate the dataframes for each key\n",
    "for key, result_list in model_results_income_threshold.items():\n",
    "    i, income = key\n",
    "    concatenated_dfs[key] = pd.concat(result_list)\n",
    "\n",
    "# Convert the dictionary of dataframes to a single dataframe\n",
    "model_dataframe_income_threshold = pd.concat(concatenated_dfs.values(), keys=concatenated_dfs.keys(), names=['replication/seed', 'income_threshold', 'Step'])\n",
    "\n",
    "# Reset the index \n",
    "model_dataframe_income_threshold.reset_index(inplace=True)"
   ]
  },
  {
   "cell_type": "code",
   "execution_count": 13,
   "metadata": {
    "ExecuteTime": {
     "end_time": "2024-01-30T16:43:00.355588Z",
     "start_time": "2024-01-30T16:43:00.256984Z"
    }
   },
   "outputs": [],
   "source": [
    "# save the results to csv files\n",
    "model_dataframe_income_threshold.to_csv(f\"../result_extremevalue/{'model_sensitivity_results_income_threshold'}.csv\", index=False)"
   ]
  },
  {
   "cell_type": "markdown",
   "metadata": {},
   "source": [
    "**3.Subsidy Rate**"
   ]
  },
  {
   "cell_type": "code",
   "execution_count": 14,
   "metadata": {
    "ExecuteTime": {
     "end_time": "2024-01-30T16:43:32.528161Z",
     "start_time": "2024-01-30T16:43:00.313884Z"
    }
   },
   "outputs": [],
   "source": [
    "# use defaultdict to store the results with different seeds\n",
    "model_results_subsidy_rate =  defaultdict(list)\n",
    "# Run the sensitivity for different income thresholds, when income is 3000 and saving threshold 0.25\n",
    "for subsidy in subsidy_rate:\n",
    "    for i in range(replication_number):\n",
    "        seed = i  # set the seed\n",
    "        model = AdaptationModel(number_of_households= number_of_households,subsidy_rate= subsidy, income_threshold=4000, saving_threshold = 0.5, harvey_probability = 0.07, flood_map_choice=\"harvey\", network=\"no_network\", seed=seed)\n",
    "        for tick in range(run_length):\n",
    "            model.step() \n",
    "        model_data4 = model.datacollector.get_model_vars_dataframe()\n",
    "        model_results_subsidy_rate[i,subsidy].append(model_data4)"
   ]
  },
  {
   "cell_type": "markdown",
   "metadata": {},
   "source": [
    "**Save the Results**"
   ]
  },
  {
   "cell_type": "code",
   "execution_count": 15,
   "metadata": {
    "ExecuteTime": {
     "end_time": "2024-01-30T16:43:32.531621Z",
     "start_time": "2024-01-30T16:43:32.524759Z"
    }
   },
   "outputs": [],
   "source": [
    "# Create a dictionary to hold the concatenated dataframes\n",
    "concatenated_dfs = {}\n",
    "\n",
    "# Concatenate the dataframes for each key\n",
    "for key, result_list in model_results_subsidy_rate.items():\n",
    "    i, subsidy = key\n",
    "    concatenated_dfs[key] = pd.concat(result_list)\n",
    "\n",
    "# Convert the dictionary of dataframes to a single dataframe\n",
    "model_dataframe_subsidy_rate = pd.concat(concatenated_dfs.values(), keys=concatenated_dfs.keys(), names=['replication/seed', 'subsidy_rate', 'Step'])\n",
    "\n",
    "# Reset the index \n",
    "model_dataframe_subsidy_rate.reset_index(inplace=True)"
   ]
  },
  {
   "cell_type": "code",
   "execution_count": 16,
   "metadata": {
    "ExecuteTime": {
     "end_time": "2024-01-30T16:43:32.609590Z",
     "start_time": "2024-01-30T16:43:32.530084Z"
    }
   },
   "outputs": [],
   "source": [
    "# save the results to csv files\n",
    "model_dataframe_subsidy_rate.to_csv(f\"../result_extremevalue/{'model_sensitivity_results_subsidy_rate'}.csv\", index=False)"
   ]
  },
  {
   "cell_type": "markdown",
   "metadata": {},
   "source": [
    "**4. Flood Probabilities**"
   ]
  },
  {
   "cell_type": "code",
   "execution_count": 17,
   "metadata": {
    "ExecuteTime": {
     "end_time": "2024-01-30T16:44:12.054061Z",
     "start_time": "2024-01-30T16:43:32.575490Z"
    }
   },
   "outputs": [],
   "source": [
    "# use defaultdict to store the results with different seeds\n",
    "model_results_flood_prob =  defaultdict(list)\n",
    "# Run the sensitivity for different flood prob, no subsidy included\n",
    "for prob in flood_probabilities:\n",
    "    for i in range(replication_number):\n",
    "        seed = i  # set the seed\n",
    "        model = AdaptationModel(number_of_households= number_of_households,subsidy_rate= 0.5, income_threshold=4000, saving_threshold = 0.5, harvey_probability = prob, flood_map_choice=\"harvey\", network=\"no_network\", seed=seed)\n",
    "        \n",
    "        for tick in range(run_length):\n",
    "            model.step() \n",
    "        model_data5 = model.datacollector.get_model_vars_dataframe()\n",
    "        model_results_flood_prob[i,prob].append(model_data5)"
   ]
  },
  {
   "cell_type": "markdown",
   "metadata": {},
   "source": [
    "**Save the Results**"
   ]
  },
  {
   "cell_type": "code",
   "execution_count": 18,
   "metadata": {
    "ExecuteTime": {
     "end_time": "2024-01-30T16:44:12.110314Z",
     "start_time": "2024-01-30T16:44:12.052737Z"
    }
   },
   "outputs": [],
   "source": [
    "# Create a dictionary to hold the concatenated dataframes\n",
    "concatenated_dfs = {}\n",
    "\n",
    "# Concatenate the dataframes for each (i, rate) key\n",
    "for key, result_list in model_results_flood_prob.items():\n",
    "    i, prob = key\n",
    "    concatenated_dfs[key] = pd.concat(result_list)\n",
    "\n",
    "# Convert the dictionary of dataframes to a single dataframe\n",
    "model_dataframe_flood_prob = pd.concat(concatenated_dfs.values(), keys=concatenated_dfs.keys(), names=['replication/seed', 'flood_probability', 'Step'])\n",
    "\n",
    "# Reset the index \n",
    "model_dataframe_flood_prob.reset_index(inplace=True)"
   ]
  },
  {
   "cell_type": "code",
   "execution_count": 19,
   "metadata": {
    "ExecuteTime": {
     "end_time": "2024-01-30T16:44:12.159748Z",
     "start_time": "2024-01-30T16:44:12.057500Z"
    }
   },
   "outputs": [],
   "source": [
    "# save the results to csv files\n",
    "model_dataframe_flood_prob.to_csv(f\"../result_extremevalue/{'model_sensitivity_results_flood_prob'}.csv\", index=False)"
   ]
  }
 ],
 "metadata": {
  "kernelspec": {
   "display_name": ".venv",
   "language": "python",
   "name": "python3"
  },
  "language_info": {
   "codemirror_mode": {
    "name": "ipython",
    "version": 3
   },
   "file_extension": ".py",
   "mimetype": "text/x-python",
   "name": "python",
   "nbconvert_exporter": "python",
   "pygments_lexer": "ipython3",
   "version": "3.11.4"
  }
 },
 "nbformat": 4,
 "nbformat_minor": 2
}
