{
 "cells": [
  {
   "cell_type": "markdown",
   "metadata": {},
   "source": [
    "**Verification**"
   ]
  },
  {
   "cell_type": "markdown",
   "metadata": {},
   "source": [
    "Maybe some explanation about what you will do "
   ]
  },
  {
   "cell_type": "code",
   "execution_count": null,
   "metadata": {},
   "outputs": [],
   "source": [
    "# Import necessary packages and model\n",
    "from model import AdaptationModel\n",
    "import matplotlib.pyplot as plt\n",
    "import networkx as nx"
   ]
  },
  {
   "cell_type": "code",
   "execution_count": null,
   "metadata": {},
   "outputs": [],
   "source": [
    "# Verify Expected Utility function\n",
    "from functions import calculate_EU\n",
    "measures = {'elevation':[20000,0.9],'dryproofing':[4000,0.7],'wetproofing':[3000,0.5]}\n",
    "# Calculate_EU(savings, flood_probability, flood_damage, measure_information)\n",
    "print(calculate_EU(30000, 0.5, 0.8 , measures))\n"
   ]
  },
  {
   "cell_type": "code",
   "execution_count": null,
   "metadata": {},
   "outputs": [],
   "source": [
    "# number of household will change\n",
    "model = AdaptationModel(number_of_households=50,subsidy_rate=0, income_threshold=2000, flood_map_choice=\"harvey\", network=\"no_network\", seed=1234568) # flood_map_choice can be \"harvey\", \"100yr\", or \"500yr\""
   ]
  }
 ],
 "metadata": {
  "kernelspec": {
   "display_name": ".venv",
   "language": "python",
   "name": "python3"
  },
  "language_info": {
   "name": "python",
   "version": "3.11.4"
  }
 },
 "nbformat": 4,
 "nbformat_minor": 2
}
