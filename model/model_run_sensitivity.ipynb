{
 "cells": [
  {
   "cell_type": "markdown",
   "metadata": {},
   "source": [
    "**Model Run**\n",
    "\n",
    "In this file, the model run as well as sensitivity analysis are conducted:\n",
    "\n",
    "1. Initial Model Run\n",
    "2. Sensitivity Analysis \n",
    "3. Experiment"
   ]
  },
  {
   "cell_type": "code",
   "execution_count": 2,
   "metadata": {
    "ExecuteTime": {
     "end_time": "2024-01-29T22:03:39.294410Z",
     "start_time": "2024-01-29T22:03:39.181890Z"
    }
   },
   "outputs": [],
   "source": [
    "# import necessary libraries and model\n",
    "from model import AdaptationModel\n",
    "import matplotlib.pyplot as plt\n",
    "import networkx as nx\n",
    "from collections import defaultdict \n",
    "import pandas as pd"
   ]
  },
  {
   "cell_type": "code",
   "execution_count": 3,
   "metadata": {
    "ExecuteTime": {
     "end_time": "2024-01-29T22:03:39.302925Z",
     "start_time": "2024-01-29T22:03:39.186106Z"
    }
   },
   "outputs": [],
   "source": [
    "# set-up model parameters\n",
    "# run time: 100 years --> 400 quarters, so 400 ticks in total\n",
    "run_length = 400\n",
    "# set the number of replications \n",
    "replication_number = 5\n",
    "# set the number of households\n",
    "number_of_households = 500"
   ]
  },
  {
   "cell_type": "markdown",
   "metadata": {},
   "source": [
    "**Initial Run**"
   ]
  },
  {
   "cell_type": "code",
   "execution_count": 4,
   "metadata": {
    "ExecuteTime": {
     "end_time": "2024-01-29T22:03:48.693824Z",
     "start_time": "2024-01-29T22:03:39.198159Z"
    }
   },
   "outputs": [],
   "source": [
    "# use defaultdict to store the results with different seeds\n",
    "model_results =  defaultdict(list)\n",
    "agent_results = defaultdict(list)\n",
    "# Run the model based on the parameters above, no subsidy included\n",
    "for i in range(replication_number):\n",
    "    seed = i  # set the seed\n",
    "    model = AdaptationModel(number_of_households= number_of_households,subsidy_rate= 0.5, income_threshold=4000, saving_threshold = 0.5, harvey_probability = 0.07, flood_map_choice=\"harvey\", network=\"no_network\", seed=seed)\n",
    "    for tick in range(run_length):\n",
    "        model.step() \n",
    "    model_data = model.datacollector.get_model_vars_dataframe()\n",
    "    agent_data = model.datacollector.get_agent_vars_dataframe()\n",
    "    model_results[i].append(model_data)\n",
    "    agent_results[i].append(agent_data)\n",
    "\n",
    "def convert_to_dataframe(results, replication_number):\n",
    "    \"\"\"Convert the results to a dataframe, single index\"\"\"\n",
    "    dfs = [pd.concat(results[i], keys=[i], names=['replication/seed']) for i in range(replication_number)]\n",
    "    dataframe = pd.concat(dfs)\n",
    "    dataframe.reset_index(inplace=True)\n",
    "    dataframe.rename(columns={'level_1': 'Step'}, inplace=True)\n",
    "    return dataframe\n",
    "\n",
    "# convert the model results to dataframe\n",
    "model_dataframe = convert_to_dataframe(model_results, replication_number)\n",
    "\n",
    "# Save the results to csv files\n",
    "model_dataframe.to_csv(f\"../result_sensitivity/{'model_results_initial'}.csv\", index=False)"
   ]
  },
  {
   "cell_type": "markdown",
   "metadata": {},
   "source": [
    "**Sensitivity Analysis**"
   ]
  },
  {
   "cell_type": "code",
   "execution_count": 5,
   "metadata": {
    "ExecuteTime": {
     "end_time": "2024-01-29T22:03:48.697942Z",
     "start_time": "2024-01-29T22:03:48.694704Z"
    }
   },
   "outputs": [],
   "source": [
    "# Parameters for the sensitivity analysis\n",
    "subsidy_rate = [0.45, 0.5, 0.55]   # subsidy rate offered\n",
    "income_threshold = [3600, 4000, 4400] # agents which have lower income then the threshold eligible for subsidy\n",
    "saving_threshold = [0.45, 0.5, 0.55] # agent calculate_saving(self) threshold, for saving or consuming\n",
    "flood_probabilities = [0.063, 0.07, 0.077] # different flood probabilities for harvey map"
   ]
  },
  {
   "cell_type": "markdown",
   "metadata": {},
   "source": [
    "**1. Saving Threshold Sensitivity**"
   ]
  },
  {
   "cell_type": "code",
   "execution_count": 6,
   "metadata": {
    "ExecuteTime": {
     "end_time": "2024-01-29T22:04:14.831313Z",
     "start_time": "2024-01-29T22:03:48.697156Z"
    }
   },
   "outputs": [
    {
     "name": "stdout",
     "output_type": "stream",
     "text": [
      "0.45\n",
      "0.5\n",
      "0.55\n"
     ]
    }
   ],
   "source": [
    "# use defaultdict to store the results with different seeds\n",
    "model_results_saving_threshold =  defaultdict(list)\n",
    "agent_results_saving_threshold = defaultdict(list)\n",
    "# Run the sensitivity for different saving thresholds, no subsidy included\n",
    "for rate in saving_threshold:\n",
    "    print(rate)\n",
    "    for i in range(replication_number):\n",
    "        seed = i  # set the seed\n",
    "        model = AdaptationModel(number_of_households= number_of_households,subsidy_rate= 0.5, income_threshold=4000, saving_threshold = rate, harvey_probability = 0.07, flood_map_choice=\"harvey\", network=\"no_network\", seed=seed)\n",
    "        for tick in range(run_length):\n",
    "            model.step() \n",
    "        model_data2 = model.datacollector.get_model_vars_dataframe()\n",
    "        model_results_saving_threshold[i,rate].append(model_data2)\n"
   ]
  },
  {
   "cell_type": "markdown",
   "metadata": {},
   "source": [
    "**Save the Results**"
   ]
  },
  {
   "cell_type": "code",
   "execution_count": 7,
   "outputs": [],
   "source": [
    "# Create a dictionary to hold the concatenated dataframes\n",
    "concatenated_dfs = {}\n",
    "\n",
    "# Concatenate the dataframes for each (i, rate) key\n",
    "for key, result_list in model_results_saving_threshold.items():\n",
    "    i, rate = key\n",
    "    concatenated_dfs[key] = pd.concat(result_list)\n",
    "\n",
    "# Convert the dictionary of dataframes to a single dataframe\n",
    "model_dataframe_saving_threshold = pd.concat(concatenated_dfs.values(), keys=concatenated_dfs.keys(), names=['replication/seed', 'rate', 'Step'])\n",
    "\n",
    "# Reset the index \n",
    "model_dataframe_saving_threshold.reset_index(inplace=True)\n",
    "\n",
    "# Save the results to csv files\n",
    "model_dataframe_saving_threshold.to_csv(f\"../result_sensitivity/{'model_sensitivity_results_saving_threshold'}.csv\", index=False)"
   ],
   "metadata": {
    "collapsed": false,
    "ExecuteTime": {
     "end_time": "2024-01-29T22:04:14.881678Z",
     "start_time": "2024-01-29T22:04:14.839278Z"
    }
   }
  },
  {
   "cell_type": "markdown",
   "metadata": {},
   "source": [
    "**2.Income Threshold**"
   ]
  },
  {
   "cell_type": "code",
   "execution_count": 8,
   "metadata": {
    "ExecuteTime": {
     "end_time": "2024-01-29T22:04:48.716560Z",
     "start_time": "2024-01-29T22:04:14.885506Z"
    }
   },
   "outputs": [],
   "source": [
    "# use defaultdict to store the results with different seeds\n",
    "model_results_income_threshold =  defaultdict(list)\n",
    "agent_results_income_threshold = defaultdict(list)\n",
    "# Run the sensitivity for different income thresholds, when subsidy is 10% and saving threshold 0.25\n",
    "for income in income_threshold:\n",
    "    for i in range(replication_number):\n",
    "        seed = i  # set the seed\n",
    "        model = AdaptationModel(number_of_households= number_of_households,subsidy_rate= 0.5, income_threshold=income, saving_threshold = 0.5, harvey_probability = 0.07, flood_map_choice=\"harvey\", network=\"no_network\", seed=seed)\n",
    "        for tick in range(run_length):\n",
    "            model.step() \n",
    "        model_data3 = model.datacollector.get_model_vars_dataframe()\n",
    "        model_results_income_threshold[i,income].append(model_data3)"
   ]
  },
  {
   "cell_type": "markdown",
   "metadata": {},
   "source": [
    "**Save the Results**"
   ]
  },
  {
   "cell_type": "code",
   "execution_count": 9,
   "metadata": {
    "ExecuteTime": {
     "end_time": "2024-01-29T22:04:48.724738Z",
     "start_time": "2024-01-29T22:04:48.722220Z"
    }
   },
   "outputs": [],
   "source": [
    "# Create a dictionary to hold the concatenated dataframes\n",
    "concatenated_dfs = {}\n",
    "\n",
    "# Concatenate the dataframes for each key\n",
    "for key, result_list in model_results_income_threshold.items():\n",
    "    i, income = key\n",
    "    concatenated_dfs[key] = pd.concat(result_list)\n",
    "\n",
    "# Convert the dictionary of dataframes to a single dataframe\n",
    "model_dataframe_income_threshold = pd.concat(concatenated_dfs.values(), keys=concatenated_dfs.keys(), names=['replication/seed', 'income_threshold', 'Step'])\n",
    "\n",
    "# Reset the index \n",
    "model_dataframe_income_threshold.reset_index(inplace=True)"
   ]
  },
  {
   "cell_type": "code",
   "execution_count": 10,
   "metadata": {
    "ExecuteTime": {
     "end_time": "2024-01-29T22:04:48.764497Z",
     "start_time": "2024-01-29T22:04:48.726256Z"
    }
   },
   "outputs": [],
   "source": [
    "# save the results to csv files\n",
    "model_dataframe_income_threshold.to_csv(f\"../result_sensitivity/{'model_sensitivity_results_income_threshold'}.csv\", index=False)"
   ]
  },
  {
   "cell_type": "markdown",
   "metadata": {},
   "source": [
    "**3.Subsidy Rate**"
   ]
  },
  {
   "cell_type": "code",
   "execution_count": 11,
   "metadata": {
    "ExecuteTime": {
     "end_time": "2024-01-29T22:05:16.014866Z",
     "start_time": "2024-01-29T22:04:48.766595Z"
    }
   },
   "outputs": [],
   "source": [
    "# use defaultdict to store the results with different seeds\n",
    "model_results_subsidy_rate =  defaultdict(list)\n",
    "agent_results_subsidy_rate = defaultdict(list)\n",
    "# Run the sensitivity for different income thresholds, when income is 3000 and saving threshold 0.25\n",
    "for subsidy in subsidy_rate:\n",
    "    for i in range(replication_number):\n",
    "        seed = i  # set the seed\n",
    "        model = AdaptationModel(number_of_households= number_of_households,subsidy_rate= subsidy, income_threshold=4000, saving_threshold = 0.5, harvey_probability = 0.07, flood_map_choice=\"harvey\", network=\"no_network\", seed=seed)\n",
    "        for tick in range(run_length):\n",
    "            model.step() \n",
    "        model_data4 = model.datacollector.get_model_vars_dataframe()\n",
    "        model_results_subsidy_rate[i,subsidy].append(model_data4)\n"
   ]
  },
  {
   "cell_type": "markdown",
   "metadata": {},
   "source": [
    "**Save the Results**"
   ]
  },
  {
   "cell_type": "code",
   "execution_count": 12,
   "metadata": {
    "ExecuteTime": {
     "end_time": "2024-01-29T22:05:16.034497Z",
     "start_time": "2024-01-29T22:05:16.019131Z"
    }
   },
   "outputs": [],
   "source": [
    "# Create a dictionary to hold the concatenated dataframes\n",
    "concatenated_dfs = {}\n",
    "\n",
    "# Concatenate the dataframes for each key\n",
    "for key, result_list in model_results_subsidy_rate.items():\n",
    "    i, subsidy = key\n",
    "    concatenated_dfs[key] = pd.concat(result_list)\n",
    "\n",
    "# Convert the dictionary of dataframes to a single dataframe\n",
    "model_dataframe_subsidy_rate = pd.concat(concatenated_dfs.values(), keys=concatenated_dfs.keys(), names=['replication/seed', 'subsidy_rate', 'Step'])\n",
    "\n",
    "# Reset the index \n",
    "model_dataframe_subsidy_rate.reset_index(inplace=True)"
   ]
  },
  {
   "cell_type": "code",
   "execution_count": 13,
   "metadata": {
    "ExecuteTime": {
     "end_time": "2024-01-29T22:05:16.066962Z",
     "start_time": "2024-01-29T22:05:16.030569Z"
    }
   },
   "outputs": [],
   "source": [
    "# save the results to csv files\n",
    "model_dataframe_subsidy_rate.to_csv(f\"../result_sensitivity/{'model_sensitivity_results_subsidy_rate'}.csv\", index=False)"
   ]
  },
  {
   "cell_type": "markdown",
   "metadata": {},
   "source": [
    "**4. Flood Probabilities**"
   ]
  },
  {
   "cell_type": "code",
   "execution_count": 14,
   "metadata": {
    "ExecuteTime": {
     "end_time": "2024-01-29T22:05:50.768669Z",
     "start_time": "2024-01-29T22:05:16.068963Z"
    }
   },
   "outputs": [],
   "source": [
    "# use defaultdict to store the results with different seeds\n",
    "model_results_flood_prob =  defaultdict(list)\n",
    "agent_results_flood_prob = defaultdict(list)\n",
    "# Run the sensitivity for different flood prob, no subsidy included\n",
    "for prob in flood_probabilities:\n",
    "    for i in range(replication_number):\n",
    "        seed = i  # set the seed\n",
    "        model = AdaptationModel(number_of_households= number_of_households,subsidy_rate= 0.5, income_threshold=4000, saving_threshold = 0.5, harvey_probability = prob, flood_map_choice=\"harvey\", network=\"no_network\", seed=seed)\n",
    "        \n",
    "        for tick in range(run_length):\n",
    "            model.step() \n",
    "        model_data5 = model.datacollector.get_model_vars_dataframe()\n",
    "        model_results_flood_prob[i,prob].append(model_data5)"
   ]
  },
  {
   "cell_type": "markdown",
   "metadata": {},
   "source": [
    "**Save the Results**"
   ]
  },
  {
   "cell_type": "code",
   "execution_count": 15,
   "metadata": {
    "ExecuteTime": {
     "end_time": "2024-01-29T22:05:50.783186Z",
     "start_time": "2024-01-29T22:05:50.779860Z"
    }
   },
   "outputs": [],
   "source": [
    "# Create a dictionary to hold the concatenated dataframes\n",
    "concatenated_dfs = {}\n",
    "\n",
    "# Concatenate the dataframes for each (i, rate) key\n",
    "for key, result_list in model_results_flood_prob.items():\n",
    "    i, prob = key\n",
    "    concatenated_dfs[key] = pd.concat(result_list)\n",
    "\n",
    "# Convert the dictionary of dataframes to a single dataframe\n",
    "model_dataframe_flood_prob = pd.concat(concatenated_dfs.values(), keys=concatenated_dfs.keys(), names=['replication/seed', 'flood_probability', 'Step'])\n",
    "\n",
    "# Reset the index \n",
    "model_dataframe_flood_prob.reset_index(inplace=True)"
   ]
  },
  {
   "cell_type": "code",
   "execution_count": 16,
   "metadata": {
    "ExecuteTime": {
     "end_time": "2024-01-29T22:05:50.828863Z",
     "start_time": "2024-01-29T22:05:50.784607Z"
    }
   },
   "outputs": [],
   "source": [
    "# save the results to csv files\n",
    "model_dataframe_flood_prob.to_csv(f\"../result_sensitivity/{'model_sensitivity_results_flood_prob'}.csv\", index=False)"
   ]
  },
  {
   "cell_type": "markdown",
   "source": [
    "# **Sensitivity Run for All Variables**"
   ],
   "metadata": {
    "collapsed": false
   }
  },
  {
   "cell_type": "code",
   "execution_count": 17,
   "outputs": [],
   "source": [
    "# # Sensitivity Test Parameters\n",
    "# parameters = {\n",
    "#     'saving_threshold': [0.45, 0.5, 0.55],\n",
    "#     'income_threshold': [3600, 4000, 4400],\n",
    "#     'subsidy_rate': [0.45, 0.5, 0.55],\n",
    "#     'harvey_probability': [0.063, 0.07, 0.077]\n",
    "# }\n",
    "# \n",
    "# # Model parameters\n",
    "# model_params = {\n",
    "#     'number_of_households': number_of_households,\n",
    "#     'subsidy_rate': 0.5,  # Default value\n",
    "#     'income_threshold': 4000,  # Default value\n",
    "#     'saving_threshold': 0.5,  # Default value\n",
    "#     'harvey_probability': 0.07,  # Default value\n",
    "#     'flood_map_choice': \"harvey\",\n",
    "#     'network': \"no_network\"\n",
    "# }"
   ],
   "metadata": {
    "collapsed": false,
    "ExecuteTime": {
     "end_time": "2024-01-29T22:05:50.838965Z",
     "start_time": "2024-01-29T22:05:50.829818Z"
    }
   }
  },
  {
   "cell_type": "code",
   "execution_count": 18,
   "outputs": [],
   "source": [
    "# from collections import defaultdict\n",
    "# import pandas as pd\n",
    "# \n",
    "# def run_model(parameter_name, parameter_values, replication_number, run_length, model_params):\n",
    "#     model_results = defaultdict(list)\n",
    "#     \n",
    "#     for value in parameter_values:\n",
    "#         for i in range(replication_number):\n",
    "#             seed = i\n",
    "#             params = model_params.copy()\n",
    "#             params[parameter_name] = value\n",
    "#             params['seed'] = seed\n",
    "#             model = AdaptationModel(**params)\n",
    "#             for tick in range(run_length):\n",
    "#                 model.step()\n",
    "#             model_data = model.datacollector.get_model_vars_dataframe()\n",
    "#             model_results[i, value].append(model_data)\n",
    "#     return model_results\n",
    "# \n",
    "# def save_results_to_csv(model_results, parameter_name, folder_path):\n",
    "#     def process_and_save(results, file_name):\n",
    "#         concatenated_dfs = {key: pd.concat(result_list) for key, result_list in results.items()}\n",
    "#         dataframe = pd.concat(concatenated_dfs.values(), keys=concatenated_dfs.keys(), names=['replication/seed', parameter_name, 'Step'])\n",
    "#         dataframe.reset_index(inplace=True)\n",
    "#         dataframe.drop(columns=['Step'], inplace=True)\n",
    "#         dataframe.to_csv(f\"{folder_path}/{file_name}.csv\", index=False)\n",
    "# \n",
    "#     process_and_save(model_results, f'model_sensitivity_results_{parameter_name}')\n",
    "# \n",
    "# def sensitivity_analysis(parameters, replication_number, run_length, model_params, folder_path=\"../result_sensitivity\"):\n",
    "#     for parameter_name, parameter_values in parameters.items():\n",
    "#         model_results = run_model(parameter_name, parameter_values, replication_number, run_length, model_params)\n",
    "#         save_results_to_csv(model_results, parameter_name, folder_path)\n",
    "# \n",
    "# \n",
    "# # Run the sensitivity analysis\n",
    "# sensitivity_analysis(parameters, replication_number, run_length, model_params)\n"
   ],
   "metadata": {
    "collapsed": false,
    "ExecuteTime": {
     "end_time": "2024-01-29T22:05:50.839243Z",
     "start_time": "2024-01-29T22:05:50.833920Z"
    }
   }
  }
 ],
 "metadata": {
  "kernelspec": {
   "display_name": ".venv",
   "language": "python",
   "name": "python3"
  },
  "language_info": {
   "codemirror_mode": {
    "name": "ipython",
    "version": 3
   },
   "file_extension": ".py",
   "mimetype": "text/x-python",
   "name": "python",
   "nbconvert_exporter": "python",
   "pygments_lexer": "ipython3",
   "version": "3.11.4"
  }
 },
 "nbformat": 4,
 "nbformat_minor": 2
}
